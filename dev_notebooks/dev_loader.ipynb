{
 "cells": [
  {
   "cell_type": "code",
   "execution_count": 1,
   "id": "b27614c9-a333-4344-9014-978ba50771cd",
   "metadata": {
    "scrolled": true
   },
   "outputs": [
    {
     "name": "stderr",
     "output_type": "stream",
     "text": [
      "\u001b[32m\u001b[1m  Activating\u001b[22m\u001b[39m project at `~/repos/Powerful.jl`\n",
      "\u001b[32m\u001b[1mPrecompiling\u001b[22m\u001b[39m Powerful\n",
      "\u001b[36m\u001b[1m        Info\u001b[22m\u001b[39m Given Powerful was explicitly requested, output will be shown live \u001b[0K\n",
      "\u001b[0Kstruct_expr = :(mutable struct BusVec{Tv}\n",
      "\u001b[0K      i::Vector{Int32}\n",
      "\u001b[0K      name::Vector{InlineStrings.String15}\n",
      "\u001b[0K      basekv::Vector{Tv}\n",
      "\u001b[0K      ide::Vector{Int8}\n",
      "\u001b[0K      area::Vector{Int16}\n",
      "\u001b[0K      zone::Vector{Int16}\n",
      "\u001b[0K      owner::Vector{Int16}\n",
      "\u001b[0K      vm::Vector{Tv}\n",
      "\u001b[0K      va::Vector{Tv}\n",
      "\u001b[0K      nvhi::Vector{Tv}\n",
      "\u001b[0K      nvlo::Vector{Tv}\n",
      "\u001b[0K      evhi::Vector{Tv}\n",
      "\u001b[0K      evlo::Vector{Tv}\n",
      "\u001b[0K  end)\n",
      "\u001b[0Kstruct_expr = :(mutable struct PQVec{Tv}\n",
      "\u001b[0K      i::Vector{Int32}\n",
      "\u001b[0K      id::Vector{InlineStrings.String3}\n",
      "\u001b[0K      status::Vector{Bool}\n",
      "\u001b[0K      area::Vector{Int16}\n",
      "\u001b[0K      zone::Vector{Int16}\n",
      "\u001b[0K      pl::Vector{Tv}\n",
      "\u001b[0K      ql::Vector{Tv}\n",
      "\u001b[0K      ip::Vector{Tv}\n",
      "\u001b[0K      iq::Vector{Tv}\n",
      "\u001b[0K      yp::Vector{Tv}\n",
      "\u001b[0K      yq::Vector{Tv}\n",
      "\u001b[0K      owner::Vector{Int16}\n",
      "\u001b[0K      scale::Vector{Union{Missing, Bool}}\n",
      "\u001b[0K      intrpt::Vector{Union{Missing, Bool}}\n",
      "\u001b[0K  end)\n",
      "\u001b[32m  ✓ \u001b[39mPowerful\n",
      "  1 dependency successfully precompiled in 1 seconds. 60 already precompiled.\n",
      "  \u001b[33m1\u001b[39m dependency had output during precompilation:\u001b[33m\n",
      "┌ \u001b[39mPowerful\u001b[33m\n",
      "│  \u001b[39m[Output was shown above]\u001b[33m\n",
      "└  \u001b[39m\n"
     ]
    }
   ],
   "source": [
    "using Revise\n",
    "using JET\n",
    "using DataFrames\n",
    "\n",
    "using Pkg\n",
    "Pkg.activate(\"..\")\n",
    "using PowerFlowData\n",
    "using StructArrays\n",
    "\n",
    "using Powerful\n",
    "using Powerful.Models\n",
    "\n",
    "using Powerful.PowerCore"
   ]
  },
  {
   "cell_type": "code",
   "execution_count": 3,
   "id": "01051f25-b82e-4cc6-82cb-404903d355e4",
   "metadata": {},
   "outputs": [],
   "source": [
    "case = PowerFlowData.parse_network(joinpath(@__DIR__, \"..\", \"cases\", \"ieee14.raw\"));"
   ]
  },
  {
   "cell_type": "code",
   "execution_count": 6,
   "id": "2ac09fa7-2769-4de7-898c-a6a2b709d8b0",
   "metadata": {
    "scrolled": true
   },
   "outputs": [
    {
     "ename": "LoadError",
     "evalue": "UndefVarError: `T` not defined",
     "output_type": "error",
     "traceback": [
      "UndefVarError: `T` not defined",
      "",
      "Stacktrace:",
      " [1] convert(::Type{Array{Tv, 1}}, a::Vector{Float64})",
      "   @ Base ./array.jl:665",
      " [2] BusVec{Float64}(i::Vector{Int32}, name::Vector{InlineStrings.String15}, basekv::Vector{Float64}, ide::Vector{Int8}, area::Vector{Int16}, zone::Vector{Int16}, owner::Vector{Int16}, vm::Vector{Float64}, va::Vector{Float64}, nvhi::Vector{Float64}, nvlo::Vector{Float64}, evhi::Vector{Float64}, evlo::Vector{Float64})",
      "   @ Powerful.Models ./none:0",
      " [3] #_#19",
      "   @ ~/repos/Powerful.jl/src/models/model_variants.jl:92 [inlined]",
      " [4] parse_model(model::Type{Bus}, raw::Network, ::FormatSupport{PSSE})",
      "   @ Powerful.Models ~/repos/Powerful.jl/src/models/bus/bus1ph.jl:68",
      " [5] parse_model",
      "   @ ~/repos/Powerful.jl/src/powercore/format_traits.jl:41 [inlined]",
      " [6] parse_model(::Type{Bus}, raw_data::Network)",
      "   @ Powerful.PowerCore ~/repos/Powerful.jl/src/powercore/format_traits.jl:40",
      " [7] top-level scope",
      "   @ In[6]:1"
     ]
    }
   ],
   "source": [
    "bus = parse_model(Bus, case);"
   ]
  },
  {
   "cell_type": "code",
   "execution_count": 9,
   "id": "eef12fda-b3bf-4c1f-8005-ad9e82a549f7",
   "metadata": {},
   "outputs": [
    {
     "data": {
      "text/html": [
       "# 1 method for type constructor:<ul><li> BusVec(; <i>i, name, basekv, ide, area, zone, owner, vm, va, nvhi, nvlo, evhi, evlo</i>) in Powerful.Models at <a href=\"https://github.com/sensl/Powerful.jl/tree/efcedd53526d004819ca7ad78567c602e6dcdf7a//src/models/model_variants.jl#L91\" target=\"_blank\">/home/hcui9/repos/Powerful.jl/src/models/model_variants.jl:91</a></li> </ul>"
      ],
      "text/plain": [
       "# 1 method for type constructor:\n",
       " [1] BusVec(; i, name, basekv, ide, area, zone, owner, vm, va, nvhi, nvlo, evhi, evlo)\n",
       "\u001b[90m     @\u001b[39m \u001b[90m~/repos/Powerful.jl/src/models/\u001b[39m\u001b[90m\u001b[4mmodel_variants.jl:91\u001b[24m\u001b[39m"
      ]
     },
     "execution_count": 9,
     "metadata": {},
     "output_type": "execute_result"
    }
   ],
   "source": [
    "methods(BusVec)"
   ]
  },
  {
   "cell_type": "code",
   "execution_count": 6,
   "id": "4b803c8a-e3a4-4951-9d7f-3abf89be8dd7",
   "metadata": {},
   "outputs": [
    {
     "data": {
      "text/plain": [
       "(:i, :name, :basekv, :ide, :area, :zone, :owner, :vm, :va, :nvhi, :nvlo, :evhi, :evlo)"
      ]
     },
     "execution_count": 6,
     "metadata": {},
     "output_type": "execute_result"
    }
   ],
   "source": [
    "fieldnames(BusVec)"
   ]
  },
  {
   "cell_type": "code",
   "execution_count": null,
   "id": "918ebfb0-5439-4a47-9f91-064ae6b606cf",
   "metadata": {},
   "outputs": [],
   "source": []
  },
  {
   "cell_type": "code",
   "execution_count": 6,
   "id": "a93ba6ae-5dae-43dd-952f-87c7c5e9bd8a",
   "metadata": {},
   "outputs": [],
   "source": [
    "pq = parse_model(PQ, case);"
   ]
  },
  {
   "cell_type": "code",
   "execution_count": 8,
   "id": "3afc13d7-2a47-4634-8ef8-ac1ec4c653c2",
   "metadata": {},
   "outputs": [],
   "source": [
    "load_system(case, [Bus, PQ]);"
   ]
  },
  {
   "cell_type": "code",
   "execution_count": 14,
   "id": "cbbb78a4-eb9d-4702-843a-257d8a7cd1ad",
   "metadata": {},
   "outputs": [],
   "source": [
    "models = load_system(case, (MODEL_REGISTRY[].models));"
   ]
  },
  {
   "cell_type": "code",
   "execution_count": 23,
   "id": "5bed5a39-cbe7-414e-8516-391029b28d16",
   "metadata": {},
   "outputs": [
    {
     "data": {
      "text/plain": [
       "AddressManager(Dict{Tuple{VarType, Symbol, Symbol}, Vector{UInt64}}(), Dict{VarType, Int64}(), Dict{Symbol, ModelAllocation}())"
      ]
     },
     "execution_count": 23,
     "metadata": {},
     "output_type": "execute_result"
    }
   ],
   "source": [
    "am = AddressManager()"
   ]
  },
  {
   "cell_type": "code",
   "execution_count": 26,
   "id": "7a8125b6-6a2a-4356-8348-baffccd1447a",
   "metadata": {},
   "outputs": [
    {
     "data": {
      "text/plain": [
       "SystemModel{@NamedTuple{Bus::BusVec{Float64}, PQ::PQVec{Float64}}}(AddressManager(Dict{Tuple{VarType, Symbol, Symbol}, Vector{UInt64}}(), Dict{VarType, Int64}(), Dict{Symbol, ModelAllocation}()), (Bus = BusVec{Float64}(Int32[1, 2, 3, 4, 5, 6, 7, 8, 9, 10, 11, 12, 13, 14], InlineStrings.String15[\"BUS1\", \"BUS2\", \"BUS3\", \"BUS4\", \"BUS5\", \"BUS6\", \"BUS7\", \"BUS8\", \"BUS9\", \"BUS10\", \"BUS11\", \"BUS12\", \"BUS13\", \"BUS14\"], [69.0, 69.0, 69.0, 69.0, 69.0, 138.0, 138.0, 69.0, 138.0, 138.0, 138.0, 138.0, 138.0, 138.0], Int8[3, 2, 2, 1, 1, 2, 1, 2, 1, 1, 1, 1, 1, 1], Int16[1, 1, 1, 1, 1, 2, 2, 2, 2, 2, 2, 2, 2, 2], Int16[1, 1, 1, 1, 1, 2, 2, 2, 2, 2, 2, 2, 2, 2], Int16[1, 1, 1, 1, 1, 2, 2, 2, 2, 2, 2, 2, 2, 2], [1.03, 1.0197, 1.00042, 0.99858, 1.00443, 0.99871, 1.00682, 1.01895, 1.00193, 0.99351, 0.99245, 0.98639, 0.98403, 0.99063], [0.0, -1.6032, -3.4433, -4.2812, -3.685, -6.3024, -4.8292, -1.3945, -7.3053, -7.46, -7.0444, -7.3874, -7.6654, -9.5636], [1.1, 1.1, 1.1, 1.1, 1.1, 1.1, 1.1, 1.1, 1.1, 1.1, 1.1, 1.1, 1.1, 1.1], [0.9, 0.9, 0.9, 0.9, 0.9, 0.9, 0.9, 0.9, 0.9, 0.9, 0.9, 0.9, 0.9, 0.9], [1.1, 1.1, 1.1, 1.1, 1.1, 1.1, 1.1, 1.1, 1.1, 1.1, 1.1, 1.1, 1.1, 1.1], [0.9, 0.9, 0.9, 0.9, 0.9, 0.9, 0.9, 0.9, 0.9, 0.9, 0.9, 0.9, 0.9, 0.9]), PQ = PQVec{Float64}(Int32[2, 3, 4, 5, 6, 9, 10, 11, 12, 13, 14], InlineStrings.String3[\"1\", \"1\", \"1\", \"1\", \"1\", \"1\", \"1\", \"1\", \"1\", \"1\", \"1\"], Bool[1, 1, 1, 1, 1, 1, 1, 1, 1, 1, 1], Int16[1, 1, 1, 1, 2, 2, 2, 2, 2, 2, 2], Int16[1, 1, 1, 1, 2, 2, 2, 2, 2, 2, 2], [21.7, 50.0, 47.8, 7.6, 15.0, 29.5, 9.0, 3.5, 6.1, 13.5, 20.0], [12.7, 25.0, 10.0, 1.6, 7.5, 16.6, 5.8, 1.8, 1.6, 5.8, 7.0], [0.0, 0.0, 0.0, 0.0, 0.0, 0.0, 0.0, 0.0, 0.0, 0.0, 0.0], [0.0, 0.0, 0.0, 0.0, 0.0, 0.0, 0.0, 0.0, 0.0, 0.0, 0.0], [0.0, 0.0, 0.0, 0.0, 0.0, 0.0, 0.0, 0.0, 0.0, 0.0, 0.0], [0.0, 0.0, 0.0, 0.0, 0.0, 0.0, 0.0, 0.0, 0.0, 0.0, 0.0], Int16[1, 1, 1, 1, 2, 2, 2, 2, 2, 2, 2], Union{Missing, Bool}[true, true, true, true, true, true, true, true, true, true, true], Union{Missing, Bool}[false, false, false, false, false, false, false, false, false, false, false])))"
      ]
     },
     "execution_count": 26,
     "metadata": {},
     "output_type": "execute_result"
    }
   ],
   "source": [
    "SystemModel(am, models)"
   ]
  },
  {
   "cell_type": "code",
   "execution_count": 25,
   "id": "8acf13c1-16bd-4842-b28d-3ce6cc9b3e2d",
   "metadata": {},
   "outputs": [
    {
     "data": {
      "text/plain": [
       "true"
      ]
     },
     "execution_count": 25,
     "metadata": {},
     "output_type": "execute_result"
    }
   ],
   "source": [
    "typeof(models[1]) <: AbstractModel "
   ]
  },
  {
   "cell_type": "code",
   "execution_count": 4,
   "id": "9bb5f043-6b76-4361-9586-09c07c77c5db",
   "metadata": {},
   "outputs": [
    {
     "data": {
      "text/plain": [
       "Bus"
      ]
     },
     "execution_count": 4,
     "metadata": {},
     "output_type": "execute_result"
    }
   ],
   "source": [
    "Bus"
   ]
  },
  {
   "cell_type": "code",
   "execution_count": 5,
   "id": "a08883a3-09e0-4791-a9c7-2347440eb890",
   "metadata": {},
   "outputs": [
    {
     "data": {
      "text/plain": [
       "BusVec"
      ]
     },
     "execution_count": 5,
     "metadata": {},
     "output_type": "execute_result"
    }
   ],
   "source": [
    "BusVec"
   ]
  },
  {
   "cell_type": "code",
   "execution_count": 6,
   "id": "c5199936-e195-4d6f-9b2a-8851e90cd99f",
   "metadata": {},
   "outputs": [
    {
     "ename": "LoadError",
     "evalue": "UndefVarError: `BusNumerical` not defined",
     "output_type": "error",
     "traceback": [
      "UndefVarError: `BusNumerical` not defined",
      ""
     ]
    }
   ],
   "source": [
    "BusNumerical"
   ]
  },
  {
   "cell_type": "code",
   "execution_count": 7,
   "id": "36e53a65-def1-46a1-a9b7-f7bd65fe635f",
   "metadata": {},
   "outputs": [
    {
     "data": {
      "text/plain": [
       "BusVec"
      ]
     },
     "execution_count": 7,
     "metadata": {},
     "output_type": "execute_result"
    }
   ],
   "source": [
    "BusVec"
   ]
  },
  {
   "cell_type": "code",
   "execution_count": 9,
   "id": "b5cd2893-1d5f-4a70-b8e3-64c2aeb7d46c",
   "metadata": {},
   "outputs": [
    {
     "data": {
      "text/plain": [
       "\u001b[0m\u001b[1mBuses\u001b[22m with 14 records, 13 columns:\n",
       "────────────────────────────────────────────────────────────────────────────────\n",
       "\u001b[1m  i \u001b[0m\u001b[1m  name \u001b[0m\u001b[1m basekv \u001b[0m\u001b[1m ide \u001b[0m\u001b[1m area \u001b[0m\u001b[1m zone \u001b[0m\u001b[1m owner \u001b[0m\u001b[1m      vm \u001b[0m\u001b[1m      va \u001b[0m\u001b[1m nvhi \u001b[0m\u001b[1m nvlo \u001b[0m\u001b[1m evhi\u001b[0m ⋯\n",
       "────────────────────────────────────────────────────────────────────────────────\n",
       "  1   BUS1    69.0    3     1     1      1  1.03      0.0      1.1   0.9   1.1 ⋯\n",
       "  2   BUS2    69.0    2     1     1      1  1.0197   -1.6032   1.1   0.9   1.1 ⋯\n",
       "  3   BUS3    69.0    2     1     1      1  1.00042  -3.4433   1.1   0.9   1.1 ⋯\n",
       "  4   BUS4    69.0    1     1     1      1  0.99858  -4.2812   1.1   0.9   1.1 ⋯\n",
       "  5   BUS5    69.0    1     1     1      1  1.00443  -3.685    1.1   0.9   1.1 ⋯\n",
       "  6   BUS6   138.0    2     2     2      2  0.99871  -6.3024   1.1   0.9   1.1 ⋯\n",
       "  7   BUS7   138.0    1     2     2      2  1.00682  -4.8292   1.1   0.9   1.1 ⋯\n",
       "  8   BUS8    69.0    2     2     2      2  1.01895  -1.3945   1.1   0.9   1.1 ⋯\n",
       "  9   BUS9   138.0    1     2     2      2  1.00193  -7.3053   1.1   0.9   1.1 ⋯\n",
       " 10  BUS10   138.0    1     2     2      2  0.99351  -7.46     1.1   0.9   1.1 ⋯\n",
       " 11  BUS11   138.0    1     2     2      2  0.99245  -7.0444   1.1   0.9   1.1 ⋯\n",
       " 12  BUS12   138.0    1     2     2      2  0.98639  -7.3874   1.1   0.9   1.1 ⋯\n",
       " 13  BUS13   138.0    1     2     2      2  0.98403  -7.6654   1.1   0.9   1.1 ⋯\n",
       " 14  BUS14   138.0    1     2     2      2  0.99063  -9.5636   1.1   0.9   1.1 ⋯\n",
       "────────────────────────────────────────────────────────────────────────────────\n",
       "\u001b[36m                                                                1 column omitted\u001b[0m"
      ]
     },
     "execution_count": 9,
     "metadata": {},
     "output_type": "execute_result"
    }
   ],
   "source": [
    "buses = case.buses"
   ]
  },
  {
   "cell_type": "code",
   "execution_count": 23,
   "id": "9a31b1e8-4e0e-481d-8c54-7729ad1a4677",
   "metadata": {},
   "outputs": [
    {
     "ename": "LoadError",
     "evalue": "MethodError: no method matching BusVec(::Vector{Int32}, ::Vector{InlineStrings.String15}, ::Vector{Float64}, ::Vector{Int8}, ::Vector{Int16}, ::Vector{Int16}, ::Vector{Int16}, ::Vector{Float64}, ::Vector{Float64}, ::Vector{Float64}, ::Vector{Float64}, ::Vector{Float64}, ::Vector{Float64})",
     "output_type": "error",
     "traceback": [
      "MethodError: no method matching BusVec(::Vector{Int32}, ::Vector{InlineStrings.String15}, ::Vector{Float64}, ::Vector{Int8}, ::Vector{Int16}, ::Vector{Int16}, ::Vector{Int16}, ::Vector{Float64}, ::Vector{Float64}, ::Vector{Float64}, ::Vector{Float64}, ::Vector{Float64}, ::Vector{Float64})",
      "",
      "Stacktrace:",
      " [1] BusVec(; i::Vector{Int32}, name::Vector{InlineStrings.String15}, basekv::Vector{Float64}, ide::Vector{Int8}, area::Vector{Int16}, zone::Vector{Int16}, owner::Vector{Int16}, vm::Vector{Float64}, va::Vector{Float64}, nvhi::Vector{Float64}, nvlo::Vector{Float64}, evhi::Vector{Float64}, evlo::Vector{Float64})",
      "   @ Powerful.Models ~/repos/Powerful.jl/src/models/model_variants.jl:92",
      " [2] top-level scope",
      "   @ In[23]:1"
     ]
    }
   ],
   "source": [
    "BusVec(;\n",
    "        i = buses.i,\n",
    "        name = buses.name,\n",
    "        basekv = buses.basekv,\n",
    "        ide = buses.ide,\n",
    "        area = buses.area,\n",
    "        zone = buses.zone,\n",
    "        owner = buses.owner,\n",
    "        vm = buses.vm,\n",
    "        va = buses.va,\n",
    "        nvhi = buses.nvhi,\n",
    "        nvlo = buses.nvlo,\n",
    "        evhi = buses.evhi,\n",
    "        evlo = buses.evlo,\n",
    "    )"
   ]
  },
  {
   "cell_type": "code",
   "execution_count": 15,
   "id": "90d7d463-df47-4dd2-9e0c-c92639d772e7",
   "metadata": {},
   "outputs": [
    {
     "ename": "LoadError",
     "evalue": "MethodError: no method matching BusVec(::Vector{Int32}, ::Vector{InlineStrings.String15}, ::Vector{Float64}, ::Vector{Int8}, ::Vector{Int16}, ::Vector{Int16}, ::Vector{Int16}, ::Vector{Float64}, ::Vector{Float64}, ::Vector{Float64}, ::Vector{Float64}, ::Vector{Float64}, ::Vector{Float64})",
     "output_type": "error",
     "traceback": [
      "MethodError: no method matching BusVec(::Vector{Int32}, ::Vector{InlineStrings.String15}, ::Vector{Float64}, ::Vector{Int8}, ::Vector{Int16}, ::Vector{Int16}, ::Vector{Int16}, ::Vector{Float64}, ::Vector{Float64}, ::Vector{Float64}, ::Vector{Float64}, ::Vector{Float64}, ::Vector{Float64})",
      "",
      "Stacktrace:",
      " [1] top-level scope",
      "   @ In[15]:1"
     ]
    }
   ],
   "source": [
    "BusVec(\n",
    "        buses.i,\n",
    "         buses.name,\n",
    "         buses.basekv,\n",
    "         buses.ide,\n",
    "         buses.area,\n",
    "         buses.zone,\n",
    "         buses.owner,\n",
    "         buses.vm,\n",
    "         buses.va,\n",
    "         buses.nvhi,\n",
    "         buses.nvlo,\n",
    "         buses.evhi,\n",
    "         buses.evlo,\n",
    "    )"
   ]
  },
  {
   "cell_type": "code",
   "execution_count": 16,
   "id": "6d43654f-7dd3-4eae-ae21-592ec0febe52",
   "metadata": {},
   "outputs": [
    {
     "data": {
      "text/html": [
       "# 1 method for type constructor:<ul><li> BusVec(; <i>i, name, basekv, ide, area, zone, owner, vm, va, nvhi, nvlo, evhi, evlo</i>) in Powerful.Models at <a href=\"https://github.com/sensl/Powerful.jl/tree/efcedd53526d004819ca7ad78567c602e6dcdf7a//src/models/model_variants.jl#L92\" target=\"_blank\">/home/hcui9/repos/Powerful.jl/src/models/model_variants.jl:92</a></li> </ul>"
      ],
      "text/plain": [
       "# 1 method for type constructor:\n",
       " [1] BusVec(; i, name, basekv, ide, area, zone, owner, vm, va, nvhi, nvlo, evhi, evlo)\n",
       "\u001b[90m     @\u001b[39m \u001b[90m~/repos/Powerful.jl/src/models/\u001b[39m\u001b[90m\u001b[4mmodel_variants.jl:92\u001b[24m\u001b[39m"
      ]
     },
     "execution_count": 16,
     "metadata": {},
     "output_type": "execute_result"
    }
   ],
   "source": [
    "methods(BusVec)"
   ]
  },
  {
   "cell_type": "code",
   "execution_count": null,
   "id": "e54a91ab-5e09-454f-87e7-8c0d10659803",
   "metadata": {},
   "outputs": [],
   "source": []
  }
 ],
 "metadata": {
  "kernelspec": {
   "display_name": "Julia 1.10.7",
   "language": "julia",
   "name": "julia-1.10"
  },
  "language_info": {
   "file_extension": ".jl",
   "mimetype": "application/julia",
   "name": "julia",
   "version": "1.10.7"
  }
 },
 "nbformat": 4,
 "nbformat_minor": 5
}
