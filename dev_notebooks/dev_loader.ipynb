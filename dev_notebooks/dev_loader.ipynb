{
 "cells": [
  {
   "cell_type": "code",
   "execution_count": 1,
   "id": "b27614c9-a333-4344-9014-978ba50771cd",
   "metadata": {},
   "outputs": [
    {
     "name": "stderr",
     "output_type": "stream",
     "text": [
      "\u001b[32m\u001b[1m  Activating\u001b[22m\u001b[39m project at `~/repos/Powerful.jl`\n"
     ]
    }
   ],
   "source": [
    "]activate ."
   ]
  },
  {
   "cell_type": "code",
   "execution_count": 2,
   "id": "1a61ce98-e2e4-4b8d-9e73-d76bb69822d4",
   "metadata": {
    "scrolled": true
   },
   "outputs": [
    {
     "name": "stderr",
     "output_type": "stream",
     "text": [
      "\u001b[32m\u001b[1mPrecompiling\u001b[22m\u001b[39m Powerful\n",
      "\u001b[32m  ✓ \u001b[39mPowerful\n",
      "  1 dependency successfully precompiled in 1 seconds. 60 already precompiled.\n"
     ]
    }
   ],
   "source": [
    "using Revise\n",
    "using PowerFlowData\n",
    "using JET\n",
    "using StructArrays\n",
    "\n",
    "using Powerful\n",
    "using Powerful.Models\n",
    "\n",
    "using Powerful.PowerCore"
   ]
  },
  {
   "cell_type": "code",
   "execution_count": 3,
   "id": "01051f25-b82e-4cc6-82cb-404903d355e4",
   "metadata": {},
   "outputs": [],
   "source": [
    "case = PowerFlowData.parse_network(joinpath(@__DIR__, \"cases\", \"ieee14.raw\"));"
   ]
  },
  {
   "cell_type": "code",
   "execution_count": 4,
   "id": "2ac09fa7-2769-4de7-898c-a6a2b709d8b0",
   "metadata": {},
   "outputs": [],
   "source": [
    "bus = load_model(Bus, case);"
   ]
  },
  {
   "cell_type": "code",
   "execution_count": null,
   "id": "59377fe2-61ba-4698-bbdc-ea54ee5ada82",
   "metadata": {},
   "outputs": [],
   "source": [
    "bus"
   ]
  },
  {
   "cell_type": "code",
   "execution_count": 5,
   "id": "dcea0415-350e-4c68-90fa-f882e68454b6",
   "metadata": {},
   "outputs": [],
   "source": [
    "bus_soa = to_struct_array(bus);"
   ]
  },
  {
   "cell_type": "code",
   "execution_count": 7,
   "id": "29c222c7-96f4-402f-8d16-6bda41f92493",
   "metadata": {},
   "outputs": [],
   "source": [
    "using CUDA"
   ]
  },
  {
   "cell_type": "code",
   "execution_count": 8,
   "id": "12699707-811e-4035-b3c6-3bbb501845b4",
   "metadata": {},
   "outputs": [],
   "source": [
    "bus_soa_cuda = replace_storage(CuArray, bus_soa);"
   ]
  },
  {
   "cell_type": "code",
   "execution_count": 9,
   "id": "d0e7f19c-9271-48d2-b3ce-f867b09db219",
   "metadata": {},
   "outputs": [
    {
     "data": {
      "text/plain": [
       "5-element CuArray{Int32, 1, CUDA.DeviceMemory}:\n",
       " 1\n",
       " 2\n",
       " 3\n",
       " 4\n",
       " 5"
      ]
     },
     "execution_count": 9,
     "metadata": {},
     "output_type": "execute_result"
    }
   ],
   "source": [
    "bus_soa_cuda.i[[1, 2, 3, 4, 5]]"
   ]
  },
  {
   "cell_type": "code",
   "execution_count": 10,
   "id": "4a8d6b38-b3c0-41b0-90c4-e1bb919cc22a",
   "metadata": {},
   "outputs": [
    {
     "data": {
      "text/plain": [
       "ForeignVar{Int32, Vector{Int32}}(:Bus, :Var, Int32[1, 2, 3])"
      ]
     },
     "execution_count": 10,
     "metadata": {},
     "output_type": "execute_result"
    }
   ],
   "source": [
    "ForeignVar(:Bus, :Var, Int32[1, 2, 3])"
   ]
  },
  {
   "cell_type": "code",
   "execution_count": 11,
   "id": "1fb87bea-9a25-414e-ab31-46f14e760bcd",
   "metadata": {},
   "outputs": [
    {
     "data": {
      "text/plain": [
       "ForeignVar{Int32, CuArray{Int32, 1, CUDA.DeviceMemory}}(:Bus, :Var, Int32[1, 2, 3])"
      ]
     },
     "execution_count": 11,
     "metadata": {},
     "output_type": "execute_result"
    }
   ],
   "source": [
    "ForeignVar(:Bus, :Var, CuArray(Int32[1, 2, 3]))"
   ]
  },
  {
   "cell_type": "code",
   "execution_count": null,
   "id": "52577c3e-9e45-4b3e-a951-8cc6fc76cd9f",
   "metadata": {},
   "outputs": [],
   "source": []
  }
 ],
 "metadata": {
  "kernelspec": {
   "display_name": "Julia 1.10.6",
   "language": "julia",
   "name": "julia-1.10"
  },
  "language_info": {
   "file_extension": ".jl",
   "mimetype": "application/julia",
   "name": "julia",
   "version": "1.10.7"
  }
 },
 "nbformat": 4,
 "nbformat_minor": 5
}
