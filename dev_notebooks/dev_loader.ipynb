{
 "cells": [
  {
   "cell_type": "code",
   "execution_count": 1,
   "id": "0c1cb48e-cc6b-467a-a674-dad3a75367a9",
   "metadata": {
    "scrolled": true
   },
   "outputs": [
    {
     "name": "stderr",
     "output_type": "stream",
     "text": [
      "\u001b[32m\u001b[1m  Activating\u001b[22m\u001b[39m project at `~/repos/Powerful.jl`\n"
     ]
    }
   ],
   "source": [
    "using Revise\n",
    "using JET\n",
    "using DataFrames\n",
    "\n",
    "using Pkg\n",
    "Pkg.activate(\"..\")\n",
    "using PowerFlowData\n",
    "using StructArrays\n",
    "using InlineStrings"
   ]
  },
  {
   "cell_type": "code",
   "execution_count": 2,
   "id": "e5625322-e2ca-4aec-b228-5e50eb0e5000",
   "metadata": {},
   "outputs": [
    {
     "name": "stderr",
     "output_type": "stream",
     "text": [
      "\u001b[32m\u001b[1mPrecompiling\u001b[22m\u001b[39m Powerful\n",
      "\u001b[32m  ✓ \u001b[39mPowerful\n",
      "  1 dependency successfully precompiled in 2 seconds. 60 already precompiled.\n"
     ]
    }
   ],
   "source": [
    "using Powerful\n",
    "using Powerful.Models\n",
    "\n",
    "using Powerful.PowerCore"
   ]
  },
  {
   "cell_type": "code",
   "execution_count": 3,
   "id": "01051f25-b82e-4cc6-82cb-404903d355e4",
   "metadata": {},
   "outputs": [],
   "source": [
    "case = PowerFlowData.parse_network(joinpath(@__DIR__, \"..\", \"cases\", \"ieee14.raw\"));"
   ]
  },
  {
   "cell_type": "code",
   "execution_count": 4,
   "id": "60ffa2cf-07dc-4867-aecc-f7aa0fbefbf0",
   "metadata": {},
   "outputs": [
    {
     "name": "stdout",
     "output_type": "stream",
     "text": [
      "search: \u001b[0m\u001b[1mB\u001b[22m\u001b[0m\u001b[1mu\u001b[22m\u001b[0m\u001b[1ms\u001b[22m\u001b[0m\u001b[1mN\u001b[22m\u001b[0m\u001b[1mu\u001b[22m\u001b[0m\u001b[1mm\u001b[22m\n",
      "\n"
     ]
    },
    {
     "data": {
      "text/latex": [
       "No documentation found.\n",
       "\n",
       "\\section{Summary}\n",
       "\\begin{verbatim}\n",
       "struct BusNum{Tv}\n",
       "\\end{verbatim}\n",
       "\\section{Fields}\n",
       "\\begin{verbatim}\n",
       "basekv :: Array{Tv, 1}\n",
       "vm     :: Array{Tv, 1}\n",
       "va     :: Array{Tv, 1}\n",
       "nvhi   :: Array{Tv, 1}\n",
       "nvlo   :: Array{Tv, 1}\n",
       "evhi   :: Array{Tv, 1}\n",
       "evlo   :: Array{Tv, 1}\n",
       "\\end{verbatim}\n",
       "\\section{Supertype Hierarchy}\n",
       "\\begin{verbatim}\n",
       "BusNum{Tv} <: Powerful.Models.AbstractBus{Tv} <: AbstractModel <: Any\n",
       "\\end{verbatim}\n"
      ],
      "text/markdown": [
       "No documentation found.\n",
       "\n",
       "# Summary\n",
       "\n",
       "```\n",
       "struct BusNum{Tv}\n",
       "```\n",
       "\n",
       "# Fields\n",
       "\n",
       "```\n",
       "basekv :: Array{Tv, 1}\n",
       "vm     :: Array{Tv, 1}\n",
       "va     :: Array{Tv, 1}\n",
       "nvhi   :: Array{Tv, 1}\n",
       "nvlo   :: Array{Tv, 1}\n",
       "evhi   :: Array{Tv, 1}\n",
       "evlo   :: Array{Tv, 1}\n",
       "```\n",
       "\n",
       "# Supertype Hierarchy\n",
       "\n",
       "```\n",
       "BusNum{Tv} <: Powerful.Models.AbstractBus{Tv} <: AbstractModel <: Any\n",
       "```\n"
      ],
      "text/plain": [
       "  No documentation found.\n",
       "\n",
       "\u001b[1m  Summary\u001b[22m\n",
       "\u001b[1m  ≡≡≡≡≡≡≡\u001b[22m\n",
       "\n",
       "\u001b[36m  struct BusNum{Tv}\u001b[39m\n",
       "\n",
       "\u001b[1m  Fields\u001b[22m\n",
       "\u001b[1m  ≡≡≡≡≡≡\u001b[22m\n",
       "\n",
       "\u001b[36m  basekv :: Array{Tv, 1}\u001b[39m\n",
       "\u001b[36m  vm     :: Array{Tv, 1}\u001b[39m\n",
       "\u001b[36m  va     :: Array{Tv, 1}\u001b[39m\n",
       "\u001b[36m  nvhi   :: Array{Tv, 1}\u001b[39m\n",
       "\u001b[36m  nvlo   :: Array{Tv, 1}\u001b[39m\n",
       "\u001b[36m  evhi   :: Array{Tv, 1}\u001b[39m\n",
       "\u001b[36m  evlo   :: Array{Tv, 1}\u001b[39m\n",
       "\n",
       "\u001b[1m  Supertype Hierarchy\u001b[22m\n",
       "\u001b[1m  ≡≡≡≡≡≡≡≡≡≡≡≡≡≡≡≡≡≡≡\u001b[22m\n",
       "\n",
       "\u001b[36m  BusNum{Tv} <: Powerful.Models.AbstractBus{Tv} <: AbstractModel <: Any\u001b[39m"
      ]
     },
     "execution_count": 4,
     "metadata": {},
     "output_type": "execute_result"
    }
   ],
   "source": [
    "?BusNum"
   ]
  },
  {
   "cell_type": "code",
   "execution_count": 11,
   "id": "3afc13d7-2a47-4634-8ef8-ac1ec4c653c2",
   "metadata": {},
   "outputs": [],
   "source": [
    "load_system(case, [Bus, PQ]);"
   ]
  },
  {
   "cell_type": "code",
   "execution_count": 7,
   "id": "cbbb78a4-eb9d-4702-843a-257d8a7cd1ad",
   "metadata": {},
   "outputs": [],
   "source": [
    "models = load_system(case, (MODEL_REGISTRY[].models));"
   ]
  },
  {
   "cell_type": "code",
   "execution_count": 8,
   "id": "5bed5a39-cbe7-414e-8516-391029b28d16",
   "metadata": {},
   "outputs": [
    {
     "data": {
      "text/plain": [
       "AddressManager(Dict{Tuple{VarType, Symbol, Symbol}, Vector{UInt64}}(), Dict{VarType, Int64}(), Dict{Symbol, ModelAllocation}())"
      ]
     },
     "execution_count": 8,
     "metadata": {},
     "output_type": "execute_result"
    }
   ],
   "source": [
    "am = AddressManager()"
   ]
  },
  {
   "cell_type": "code",
   "execution_count": 9,
   "id": "7a8125b6-6a2a-4356-8348-baffccd1447a",
   "metadata": {},
   "outputs": [],
   "source": [
    "sys = SystemModel(am, models);"
   ]
  },
  {
   "cell_type": "code",
   "execution_count": null,
   "id": "5e76c912-c50c-4984-8577-a052af9a15d6",
   "metadata": {},
   "outputs": [],
   "source": []
  }
 ],
 "metadata": {
  "kernelspec": {
   "display_name": "Julia 1.10.7",
   "language": "julia",
   "name": "julia-1.10"
  },
  "language_info": {
   "file_extension": ".jl",
   "mimetype": "application/julia",
   "name": "julia",
   "version": "1.10.7"
  }
 },
 "nbformat": 4,
 "nbformat_minor": 5
}
