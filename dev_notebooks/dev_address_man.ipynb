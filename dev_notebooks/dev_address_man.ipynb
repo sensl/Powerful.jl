{
 "cells": [
  {
   "cell_type": "code",
   "execution_count": 1,
   "id": "4cc1abca-b840-4aac-a3b3-950ed2c16427",
   "metadata": {},
   "outputs": [
    {
     "name": "stderr",
     "output_type": "stream",
     "text": [
      "\u001b[32m\u001b[1m  Activating\u001b[22m\u001b[39m project at `~/repos/Powerful.jl`\n",
      "\u001b[32m\u001b[1mPrecompiling\u001b[22m\u001b[39m Powerful\n",
      "\u001b[32m  ✓ \u001b[39mPowerful\n",
      "  1 dependency successfully precompiled in 2 seconds. 60 already precompiled.\n"
     ]
    },
    {
     "data": {
      "text/plain": [
       "AddressManager(Dict{Tuple{VarType, Symbol, Symbol}, Vector{UInt64}}(), Dict{VarType, Int64}(), Dict{Symbol, ModelAllocation}())"
      ]
     },
     "execution_count": 1,
     "metadata": {},
     "output_type": "execute_result"
    }
   ],
   "source": [
    "using Revise\n",
    "using JET\n",
    "# using Term: typestree\n",
    "using Pkg\n",
    "Pkg.activate(\"..\")\n",
    "using Powerful\n",
    "using Powerful.PowerCore\n",
    "using Powerful.Models\n",
    "am = AddressManager()"
   ]
  },
  {
   "cell_type": "code",
   "execution_count": 4,
   "id": "1d4e8730",
   "metadata": {},
   "outputs": [
    {
     "data": {
      "text/plain": [
       "ModelMetadata(:Bus, ModelVar[ModelVar{Internal, Algeb, Nothing, Dict{Type{<:VarProperty}, VarProperty}}(:theta, Algeb(), nothing, nothing, Dict{Type{<:VarProperty}, VarProperty}(Bounds => Bounds(-Inf, Inf), Description => Description(\"Bus voltage angle\"), Units => Units(\"rad\"))), ModelVar{Internal, Algeb, Nothing, Dict{Type{<:VarProperty}, VarProperty}}(:v, Algeb(), nothing, nothing, Dict{Type{<:VarProperty}, VarProperty}(Bounds => Bounds(0.0, 2.0), Description => Description(\"Bus voltage magnitude\"), Units => Units(\"pu\")))], [:theta, :v], ContiguousVariables())"
      ]
     },
     "execution_count": 4,
     "metadata": {},
     "output_type": "execute_result"
    }
   ],
   "source": [
    "bus_metadata = model_metadata(Bus)"
   ]
  },
  {
   "cell_type": "code",
   "execution_count": 5,
   "id": "ce2dc325-fef9-4f13-be5f-63f36bce2901",
   "metadata": {},
   "outputs": [],
   "source": [
    "allocate_model!(am, :Bus, bus_metadata, 20);\n"
   ]
  },
  {
   "cell_type": "code",
   "execution_count": 6,
   "id": "ec1c2ee2",
   "metadata": {},
   "outputs": [
    {
     "data": {
      "text/plain": [
       "ModelAllocation(:Bus, Dict{Symbol, Vector{UInt64}}(:v => [0x0000000000000015, 0x0000000000000016, 0x0000000000000017, 0x0000000000000018, 0x0000000000000019, 0x000000000000001a, 0x000000000000001b, 0x000000000000001c, 0x000000000000001d, 0x000000000000001e, 0x000000000000001f, 0x0000000000000020, 0x0000000000000021, 0x0000000000000022, 0x0000000000000023, 0x0000000000000024, 0x0000000000000025, 0x0000000000000026, 0x0000000000000027, 0x0000000000000028], :theta => [0x0000000000000001, 0x0000000000000002, 0x0000000000000003, 0x0000000000000004, 0x0000000000000005, 0x0000000000000006, 0x0000000000000007, 0x0000000000000008, 0x0000000000000009, 0x000000000000000a, 0x000000000000000b, 0x000000000000000c, 0x000000000000000d, 0x000000000000000e, 0x000000000000000f, 0x0000000000000010, 0x0000000000000011, 0x0000000000000012, 0x0000000000000013, 0x0000000000000014]), true)"
      ]
     },
     "execution_count": 6,
     "metadata": {},
     "output_type": "execute_result"
    }
   ],
   "source": [
    "am.allocations[:Bus]"
   ]
  },
  {
   "cell_type": "code",
   "execution_count": 9,
   "id": "5ed1ae3a-0c21-40c0-b685-cd4168e88e72",
   "metadata": {},
   "outputs": [
    {
     "ename": "LoadError",
     "evalue": "MethodError: no method matching Bus(::Int64)\n\n\u001b[0mClosest candidates are:\n\u001b[0m  Bus(; i, name, basekv, ide, area, zone, owner, vm, va, nvhi, nvlo, evhi, evlo)\n\u001b[0m\u001b[90m   @\u001b[39m \u001b[35mPowerful\u001b[39m \u001b[90m~/repos/Powerful.jl/src/powercore/\u001b[39m\u001b[90m\u001b[4mvectorizer.jl:17\u001b[24m\u001b[39m\n\u001b[0m  Bus(\u001b[91m::Int32\u001b[39m, \u001b[91m::InlineStrings.String15\u001b[39m, \u001b[91m::Tv\u001b[39m, \u001b[91m::Int8\u001b[39m, \u001b[91m::Int16\u001b[39m, \u001b[91m::Int16\u001b[39m, \u001b[91m::Int16\u001b[39m, \u001b[91m::Tv\u001b[39m, \u001b[91m::Tv\u001b[39m, \u001b[91m::Tv\u001b[39m, \u001b[91m::Tv\u001b[39m, \u001b[91m::Tv\u001b[39m, \u001b[91m::Tv\u001b[39m) where Tv\n\u001b[0m\u001b[90m   @\u001b[39m \u001b[35mPowerful\u001b[39m \u001b[90m~/repos/Powerful.jl/src/models/\u001b[39m\u001b[90m\u001b[4mbus.jl:5\u001b[24m\u001b[39m\n",
     "output_type": "error",
     "traceback": [
      "MethodError: no method matching Bus(::Int64)\n\n\u001b[0mClosest candidates are:\n\u001b[0m  Bus(; i, name, basekv, ide, area, zone, owner, vm, va, nvhi, nvlo, evhi, evlo)\n\u001b[0m\u001b[90m   @\u001b[39m \u001b[35mPowerful\u001b[39m \u001b[90m~/repos/Powerful.jl/src/powercore/\u001b[39m\u001b[90m\u001b[4mvectorizer.jl:17\u001b[24m\u001b[39m\n\u001b[0m  Bus(\u001b[91m::Int32\u001b[39m, \u001b[91m::InlineStrings.String15\u001b[39m, \u001b[91m::Tv\u001b[39m, \u001b[91m::Int8\u001b[39m, \u001b[91m::Int16\u001b[39m, \u001b[91m::Int16\u001b[39m, \u001b[91m::Int16\u001b[39m, \u001b[91m::Tv\u001b[39m, \u001b[91m::Tv\u001b[39m, \u001b[91m::Tv\u001b[39m, \u001b[91m::Tv\u001b[39m, \u001b[91m::Tv\u001b[39m, \u001b[91m::Tv\u001b[39m) where Tv\n\u001b[0m\u001b[90m   @\u001b[39m \u001b[35mPowerful\u001b[39m \u001b[90m~/repos/Powerful.jl/src/models/\u001b[39m\u001b[90m\u001b[4mbus.jl:5\u001b[24m\u001b[39m\n",
      "",
      "Stacktrace:",
      " [1] top-level scope",
      "   @ In[9]:1"
     ]
    }
   ],
   "source": [
    "sys = SystemModel(am, (Bus(5), Bus(10)))"
   ]
  },
  {
   "cell_type": "code",
   "execution_count": 11,
   "id": "9ff5ba5c-a374-43b3-9230-76e2edb1e532",
   "metadata": {},
   "outputs": [
    {
     "data": {
      "text/plain": [
       "SystemModel"
      ]
     },
     "execution_count": 11,
     "metadata": {},
     "output_type": "execute_result"
    }
   ],
   "source": [
    "SystemModel"
   ]
  },
  {
   "cell_type": "code",
   "execution_count": null,
   "id": "49030a5a-4c0c-4fe4-ab11-d4c23d0b2d91",
   "metadata": {},
   "outputs": [],
   "source": []
  },
  {
   "cell_type": "code",
   "execution_count": null,
   "id": "4ba0d95c-3e31-442d-8df1-5bfb0b1b978d",
   "metadata": {},
   "outputs": [],
   "source": []
  }
 ],
 "metadata": {
  "kernelspec": {
   "display_name": "Julia 1.10.7",
   "language": "julia",
   "name": "julia-1.10"
  },
  "language_info": {
   "file_extension": ".jl",
   "mimetype": "application/julia",
   "name": "julia",
   "version": "1.10.7"
  }
 },
 "nbformat": 4,
 "nbformat_minor": 5
}
