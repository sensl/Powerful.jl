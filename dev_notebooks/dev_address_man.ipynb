{
 "cells": [
  {
   "cell_type": "code",
   "execution_count": 1,
   "id": "4cc1abca-b840-4aac-a3b3-950ed2c16427",
   "metadata": {},
   "outputs": [],
   "source": [
    "using Revise\n",
    "using JET\n",
    "# using Term: typestree"
   ]
  },
  {
   "cell_type": "code",
   "execution_count": 2,
   "id": "f8224081-ab2f-4486-85e3-3c4924b5388d",
   "metadata": {},
   "outputs": [
    {
     "data": {
      "text/plain": [
       "ConsoleLogger(IJulia.IJuliaStdio{Base.PipeEndpoint}(IOContext(Base.PipeEndpoint(RawFD(45) open, 0 bytes waiting))), Debug, Logging.default_metafmt, true, 0, Dict{Any, Int64}())"
      ]
     },
     "execution_count": 2,
     "metadata": {},
     "output_type": "execute_result"
    }
   ],
   "source": [
    "using Logging\n",
    "debug_logger = ConsoleLogger(stderr, Logging.Debug)\n",
    "# global_logger(debug_logger);"
   ]
  },
  {
   "cell_type": "code",
   "execution_count": 3,
   "id": "56db966b-8685-414a-b362-15d0ab5e46af",
   "metadata": {},
   "outputs": [
    {
     "name": "stderr",
     "output_type": "stream",
     "text": [
      "\u001b[32m\u001b[1m  Activating\u001b[22m\u001b[39m project at `~/repos/Powerful.jl`\n"
     ]
    }
   ],
   "source": [
    "]activate ."
   ]
  },
  {
   "cell_type": "code",
   "execution_count": 4,
   "id": "2d27262d-3189-4ccc-b043-1f03c0900667",
   "metadata": {},
   "outputs": [],
   "source": [
    "using Powerful"
   ]
  },
  {
   "cell_type": "code",
   "execution_count": 5,
   "id": "4d1ec138-9e97-4848-846e-4bcc96cd0ad2",
   "metadata": {},
   "outputs": [],
   "source": [
    "using Powerful.PowerCore"
   ]
  },
  {
   "cell_type": "code",
   "execution_count": 6,
   "id": "b5fa3d2d-2a9a-495a-bdfb-2a56f09adf11",
   "metadata": {},
   "outputs": [],
   "source": [
    "using Powerful.Models"
   ]
  },
  {
   "cell_type": "code",
   "execution_count": 8,
   "id": "9746b2c9-d944-4f4e-8961-71aaf753c9d0",
   "metadata": {},
   "outputs": [
    {
     "data": {
      "text/plain": [
       "AddressManager(Dict{Tuple{VarType, Symbol, Symbol}, Vector{UInt64}}(), Dict{VarType, Int64}(), Dict{Symbol, ModelAllocation}())"
      ]
     },
     "execution_count": 8,
     "metadata": {},
     "output_type": "execute_result"
    }
   ],
   "source": [
    "am = AddressManager()"
   ]
  },
  {
   "cell_type": "code",
   "execution_count": 9,
   "id": "ce2dc325-fef9-4f13-be5f-63f36bce2901",
   "metadata": {},
   "outputs": [
    {
     "ename": "LoadError",
     "evalue": "MethodError: no method matching (BusMetadata{ContiguousVariables})(::Tuple{VarSpec, VarSpec}, ::Tuple{Symbol, Symbol})",
     "output_type": "error",
     "traceback": [
      "MethodError: no method matching (BusMetadata{ContiguousVariables})(::Tuple{VarSpec, VarSpec}, ::Tuple{Symbol, Symbol})",
      "",
      "Stacktrace:",
      " [1] (BusMetadata{ContiguousVariables})()",
      "   @ Powerful.Models ~/repos/Powerful.jl/src/models/bus.jl:35",
      " [2] top-level scope",
      "   @ In[9]:1"
     ]
    }
   ],
   "source": [
    "allocate_model!(am, :Bus, BusMetadata{ContiguousVariables}(), 20);"
   ]
  },
  {
   "cell_type": "code",
   "execution_count": 15,
   "id": "edf23037-7309-4455-801e-7add440de296",
   "metadata": {},
   "outputs": [
    {
     "data": {
      "text/plain": [
       "BusMetadata{ContiguousVariables, 2, 2}((VarSpec(:theta, Algebraic(), OwnVar()), VarSpec(:v, Algebraic(), OwnVar())), (:theta, :v))"
      ]
     },
     "execution_count": 15,
     "metadata": {},
     "output_type": "execute_result"
    }
   ],
   "source": [
    "BusMetadata{ContiguousVariables}()"
   ]
  },
  {
   "cell_type": "code",
   "execution_count": 8,
   "id": "6192c178-0372-4ef7-bca7-7188b8a05718",
   "metadata": {},
   "outputs": [
    {
     "ename": "LoadError",
     "evalue": "UndefVarError: `generate_addresses_type` not defined",
     "output_type": "error",
     "traceback": [
      "UndefVarError: `generate_addresses_type` not defined",
      "",
      "Stacktrace:",
      " [1] top-level scope",
      "   @ In[8]:1"
     ]
    }
   ],
   "source": [
    "generate_addresses_type(:Bus, BusMetadata{ContiguousVariables}().internal_vars)"
   ]
  },
  {
   "cell_type": "code",
   "execution_count": 9,
   "id": "bd2f5a89-9c10-4164-8a8d-78499cfb312e",
   "metadata": {},
   "outputs": [
    {
     "ename": "LoadError",
     "evalue": "UndefVarError: `create_address_instance` not defined",
     "output_type": "error",
     "traceback": [
      "UndefVarError: `create_address_instance` not defined",
      "",
      "Stacktrace:",
      " [1] top-level scope",
      "   @ In[9]:1"
     ]
    }
   ],
   "source": [
    "bus_address = create_address_instance(am, :Bus)"
   ]
  },
  {
   "cell_type": "code",
   "execution_count": 10,
   "id": "249cbf93-7b83-453f-a9c7-217c214751b7",
   "metadata": {},
   "outputs": [
    {
     "data": {
      "text/plain": [
       "Dict{Tuple{VarType, Symbol, Symbol}, Vector{UInt64}} with 2 entries:\n",
       "  (Algebraic(), :Bus, :theta) => [0x0000000000000001, 0x0000000000000002, 0x000…\n",
       "  (Algebraic(), :Bus, :v)     => [0x0000000000000015, 0x0000000000000016, 0x000…"
      ]
     },
     "execution_count": 10,
     "metadata": {},
     "output_type": "execute_result"
    }
   ],
   "source": [
    "am.addresses"
   ]
  },
  {
   "cell_type": "code",
   "execution_count": 11,
   "id": "5ed1ae3a-0c21-40c0-b685-cd4168e88e72",
   "metadata": {},
   "outputs": [
    {
     "data": {
      "text/plain": [
       "SystemModel{Tuple{Bus, Bus}}(AddressManager(Dict{Tuple{VarType, Symbol, Symbol}, Vector{UInt64}}((Algebraic(), :Bus, :theta) => [0x0000000000000001, 0x0000000000000002, 0x0000000000000003, 0x0000000000000004, 0x0000000000000005, 0x0000000000000006, 0x0000000000000007, 0x0000000000000008, 0x0000000000000009, 0x000000000000000a, 0x000000000000000b, 0x000000000000000c, 0x000000000000000d, 0x000000000000000e, 0x000000000000000f, 0x0000000000000010, 0x0000000000000011, 0x0000000000000012, 0x0000000000000013, 0x0000000000000014], (Algebraic(), :Bus, :v) => [0x0000000000000015, 0x0000000000000016, 0x0000000000000017, 0x0000000000000018, 0x0000000000000019, 0x000000000000001a, 0x000000000000001b, 0x000000000000001c, 0x000000000000001d, 0x000000000000001e, 0x000000000000001f, 0x0000000000000020, 0x0000000000000021, 0x0000000000000022, 0x0000000000000023, 0x0000000000000024, 0x0000000000000025, 0x0000000000000026, 0x0000000000000027, 0x0000000000000028]), Dict{VarType, Int64}(Algebraic() => 41), Dict{Symbol, ModelAllocation}(:Bus => ModelAllocation(:Bus, Dict{Symbol, Vector{UInt64}}(:v => [0x0000000000000015, 0x0000000000000016, 0x0000000000000017, 0x0000000000000018, 0x0000000000000019, 0x000000000000001a, 0x000000000000001b, 0x000000000000001c, 0x000000000000001d, 0x000000000000001e, 0x000000000000001f, 0x0000000000000020, 0x0000000000000021, 0x0000000000000022, 0x0000000000000023, 0x0000000000000024, 0x0000000000000025, 0x0000000000000026, 0x0000000000000027, 0x0000000000000028], :theta => [0x0000000000000001, 0x0000000000000002, 0x0000000000000003, 0x0000000000000004, 0x0000000000000005, 0x0000000000000006, 0x0000000000000007, 0x0000000000000008, 0x0000000000000009, 0x000000000000000a, 0x000000000000000b, 0x000000000000000c, 0x000000000000000d, 0x000000000000000e, 0x000000000000000f, 0x0000000000000010, 0x0000000000000011, 0x0000000000000012, 0x0000000000000013, 0x0000000000000014]), true))), (Bus(5), Bus(10)))"
      ]
     },
     "execution_count": 11,
     "metadata": {},
     "output_type": "execute_result"
    }
   ],
   "source": [
    "sys = SystemModel(am, (Bus(5), Bus(10)))"
   ]
  },
  {
   "cell_type": "code",
   "execution_count": 34,
   "id": "b1e75a12-7a0b-4973-88e6-7db56edbee45",
   "metadata": {},
   "outputs": [
    {
     "data": {
      "text/plain": [
       "\u001b[92mNo errors detected\u001b[39m\n"
      ]
     },
     "execution_count": 34,
     "metadata": {},
     "output_type": "execute_result"
    }
   ],
   "source": [
    "function iter_sys(sys)\n",
    "for item in sys\n",
    "    # println(item)\n",
    "end\n",
    "end\n",
    "\n",
    "@report_opt iter_sys(sys)"
   ]
  },
  {
   "cell_type": "code",
   "execution_count": null,
   "id": "9ff5ba5c-a374-43b3-9230-76e2edb1e532",
   "metadata": {},
   "outputs": [],
   "source": [
    "\n"
   ]
  }
 ],
 "metadata": {
  "kernelspec": {
   "display_name": "Julia 1.10.7",
   "language": "julia",
   "name": "julia-1.10"
  },
  "language_info": {
   "file_extension": ".jl",
   "mimetype": "application/julia",
   "name": "julia",
   "version": "1.10.7"
  }
 },
 "nbformat": 4,
 "nbformat_minor": 5
}
